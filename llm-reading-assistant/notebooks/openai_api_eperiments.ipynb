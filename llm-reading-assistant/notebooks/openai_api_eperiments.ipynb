{
 "cells": [
  {
   "cell_type": "code",
   "execution_count": 1,
   "metadata": {},
   "outputs": [],
   "source": [
    "# %load_ext kedro.ipython\n",
    "# %reload_kedro"
   ]
  },
  {
   "cell_type": "code",
   "execution_count": 2,
   "metadata": {},
   "outputs": [],
   "source": [
    "import os\n",
    "import openai\n",
    "from kedro.config import ConfigLoader\n",
    "from kedro.framework.project import settings\n",
    "from pprint import pprint\n"
   ]
  },
  {
   "cell_type": "code",
   "execution_count": 3,
   "metadata": {},
   "outputs": [],
   "source": [
    "project_path = \"/Users/pchaberski/projects/llm-reading-assistant/\"\n",
    "conf_path = str(project_path + settings.CONF_SOURCE)\n",
    "conf_loader = ConfigLoader(conf_source=conf_path)\n",
    "credentials = conf_loader[\"credentials\"]"
   ]
  },
  {
   "cell_type": "code",
   "execution_count": 4,
   "metadata": {},
   "outputs": [],
   "source": [
    "openai.api_key = credentials[\"openai_api_key\"]"
   ]
  },
  {
   "cell_type": "code",
   "execution_count": 19,
   "metadata": {},
   "outputs": [],
   "source": [
    "# openai.Model.list()"
   ]
  },
  {
   "cell_type": "code",
   "execution_count": 15,
   "metadata": {},
   "outputs": [],
   "source": [
    "response1 = openai.Completion.create(\n",
    "  model=\"text-davinci-003\",\n",
    "  prompt=\"Explain the term in maximum 2 sentences: London Interbank Offered Rate\",\n",
    "  temperature=0,\n",
    "  max_tokens=120,\n",
    "  top_p=1.0,\n",
    "  frequency_penalty=0.0,\n",
    "  presence_penalty=0.0\n",
    ")"
   ]
  },
  {
   "cell_type": "code",
   "execution_count": 20,
   "metadata": {},
   "outputs": [
    {
     "data": {
      "text/html": [
       "<pre style=\"white-space:pre;overflow-x:auto;line-height:normal;font-family:Menlo,'DejaVu Sans Mono',consolas,'Courier New',monospace\"><span style=\"font-weight: bold\">&lt;</span><span style=\"color: #ff00ff; text-decoration-color: #ff00ff; font-weight: bold\">class</span><span style=\"color: #000000; text-decoration-color: #000000\"> </span><span style=\"color: #008000; text-decoration-color: #008000\">'openai.openai_object.OpenAIObject'</span><span style=\"font-weight: bold\">&gt;</span>\n",
       "</pre>\n"
      ],
      "text/plain": [
       "\u001b[1m<\u001b[0m\u001b[1;95mclass\u001b[0m\u001b[39m \u001b[0m\u001b[32m'openai.openai_object.OpenAIObject'\u001b[0m\u001b[1m>\u001b[0m\n"
      ]
     },
     "metadata": {},
     "output_type": "display_data"
    }
   ],
   "source": [
    "type(response1)"
   ]
  },
  {
   "cell_type": "code",
   "execution_count": 16,
   "metadata": {},
   "outputs": [
    {
     "data": {
      "text/html": [
       "<pre style=\"white-space:pre;overflow-x:auto;line-height:normal;font-family:Menlo,'DejaVu Sans Mono',consolas,'Courier New',monospace\">\n",
       "<span style=\"font-weight: bold\">&lt;</span><span style=\"color: #ff00ff; text-decoration-color: #ff00ff; font-weight: bold\">OpenAIObject</span><span style=\"color: #000000; text-decoration-color: #000000\"> text_completion </span><span style=\"color: #808000; text-decoration-color: #808000\">id</span><span style=\"color: #000000; text-decoration-color: #000000\">=</span><span style=\"color: #800080; text-decoration-color: #800080\">cmpl</span><span style=\"color: #000000; text-decoration-color: #000000\">-7RIVW2khSeWmJM5zHjcBfjxK3S7C0 at </span><span style=\"color: #008080; text-decoration-color: #008080; font-weight: bold\">0x126d2aac0</span><span style=\"font-weight: bold\">&gt;</span> JSON: <span style=\"font-weight: bold\">{</span>\n",
       "  <span style=\"color: #008000; text-decoration-color: #008000\">\"id\"</span>: <span style=\"color: #008000; text-decoration-color: #008000\">\"cmpl-7RIVW2khSeWmJM5zHjcBfjxK3S7C0\"</span>,\n",
       "  <span style=\"color: #008000; text-decoration-color: #008000\">\"object\"</span>: <span style=\"color: #008000; text-decoration-color: #008000\">\"text_completion\"</span>,\n",
       "  <span style=\"color: #008000; text-decoration-color: #008000\">\"created\"</span>: <span style=\"color: #008080; text-decoration-color: #008080; font-weight: bold\">1686740354</span>,\n",
       "  <span style=\"color: #008000; text-decoration-color: #008000\">\"model\"</span>: <span style=\"color: #008000; text-decoration-color: #008000\">\"text-davinci-003\"</span>,\n",
       "  <span style=\"color: #008000; text-decoration-color: #008000\">\"choices\"</span>: <span style=\"font-weight: bold\">[</span>\n",
       "    <span style=\"font-weight: bold\">{</span>\n",
       "      <span style=\"color: #008000; text-decoration-color: #008000\">\"text\"</span>: <span style=\"color: #008000; text-decoration-color: #008000\">\"\\n\\nLondon Interbank Offered Rate (LIBOR) is a benchmark interest rate at which major global banks lend to one another in the interbank market for short-term loans. It is used as a reference rate for many financial products, such as mortgages, credit cards, and student loans.\"</span>,\n",
       "      <span style=\"color: #008000; text-decoration-color: #008000\">\"index\"</span>: <span style=\"color: #008080; text-decoration-color: #008080; font-weight: bold\">0</span>,\n",
       "      <span style=\"color: #008000; text-decoration-color: #008000\">\"logprobs\"</span>: null,\n",
       "      <span style=\"color: #008000; text-decoration-color: #008000\">\"finish_reason\"</span>: <span style=\"color: #008000; text-decoration-color: #008000\">\"stop\"</span>\n",
       "    <span style=\"font-weight: bold\">}</span>\n",
       "  <span style=\"font-weight: bold\">]</span>,\n",
       "  <span style=\"color: #008000; text-decoration-color: #008000\">\"usage\"</span>: <span style=\"font-weight: bold\">{</span>\n",
       "    <span style=\"color: #008000; text-decoration-color: #008000\">\"prompt_tokens\"</span>: <span style=\"color: #008080; text-decoration-color: #008080; font-weight: bold\">15</span>,\n",
       "    <span style=\"color: #008000; text-decoration-color: #008000\">\"completion_tokens\"</span>: <span style=\"color: #008080; text-decoration-color: #008080; font-weight: bold\">60</span>,\n",
       "    <span style=\"color: #008000; text-decoration-color: #008000\">\"total_tokens\"</span>: <span style=\"color: #008080; text-decoration-color: #008080; font-weight: bold\">75</span>\n",
       "  <span style=\"font-weight: bold\">}</span>\n",
       "<span style=\"font-weight: bold\">}</span>\n",
       "</pre>\n"
      ],
      "text/plain": [
       "\n",
       "\u001b[1m<\u001b[0m\u001b[1;95mOpenAIObject\u001b[0m\u001b[39m text_completion \u001b[0m\u001b[33mid\u001b[0m\u001b[39m=\u001b[0m\u001b[35mcmpl\u001b[0m\u001b[39m-7RIVW2khSeWmJM5zHjcBfjxK3S7C0 at \u001b[0m\u001b[1;36m0x126d2aac0\u001b[0m\u001b[1m>\u001b[0m JSON: \u001b[1m{\u001b[0m\n",
       "  \u001b[32m\"id\"\u001b[0m: \u001b[32m\"cmpl-7RIVW2khSeWmJM5zHjcBfjxK3S7C0\"\u001b[0m,\n",
       "  \u001b[32m\"object\"\u001b[0m: \u001b[32m\"text_completion\"\u001b[0m,\n",
       "  \u001b[32m\"created\"\u001b[0m: \u001b[1;36m1686740354\u001b[0m,\n",
       "  \u001b[32m\"model\"\u001b[0m: \u001b[32m\"text-davinci-003\"\u001b[0m,\n",
       "  \u001b[32m\"choices\"\u001b[0m: \u001b[1m[\u001b[0m\n",
       "    \u001b[1m{\u001b[0m\n",
       "      \u001b[32m\"text\"\u001b[0m: \u001b[32m\"\\n\\nLondon Interbank Offered Rate \u001b[0m\u001b[32m(\u001b[0m\u001b[32mLIBOR\u001b[0m\u001b[32m)\u001b[0m\u001b[32m is a benchmark interest rate at which major global banks lend to one another in the interbank market for short-term loans. It is used as a reference rate for many financial products, such as mortgages, credit cards, and student loans.\"\u001b[0m,\n",
       "      \u001b[32m\"index\"\u001b[0m: \u001b[1;36m0\u001b[0m,\n",
       "      \u001b[32m\"logprobs\"\u001b[0m: null,\n",
       "      \u001b[32m\"finish_reason\"\u001b[0m: \u001b[32m\"stop\"\u001b[0m\n",
       "    \u001b[1m}\u001b[0m\n",
       "  \u001b[1m]\u001b[0m,\n",
       "  \u001b[32m\"usage\"\u001b[0m: \u001b[1m{\u001b[0m\n",
       "    \u001b[32m\"prompt_tokens\"\u001b[0m: \u001b[1;36m15\u001b[0m,\n",
       "    \u001b[32m\"completion_tokens\"\u001b[0m: \u001b[1;36m60\u001b[0m,\n",
       "    \u001b[32m\"total_tokens\"\u001b[0m: \u001b[1;36m75\u001b[0m\n",
       "  \u001b[1m}\u001b[0m\n",
       "\u001b[1m}\u001b[0m\n"
      ]
     },
     "metadata": {},
     "output_type": "display_data"
    }
   ],
   "source": [
    "response1"
   ]
  },
  {
   "cell_type": "code",
   "execution_count": 17,
   "metadata": {},
   "outputs": [
    {
     "name": "stdout",
     "output_type": "stream",
     "text": [
      "('\\n'\n",
      " '\\n'\n",
      " 'London Interbank Offered Rate (LIBOR) is a benchmark interest rate at which '\n",
      " 'major global banks lend to one another in the interbank market for '\n",
      " 'short-term loans. It is used as a reference rate for many financial '\n",
      " 'products, such as mortgages, credit cards, and student loans.')\n"
     ]
    }
   ],
   "source": [
    "pprint(response1.get(\"choices\")[0].get(\"text\"))"
   ]
  },
  {
   "cell_type": "code",
   "execution_count": 13,
   "metadata": {},
   "outputs": [],
   "source": [
    "response2 = openai.Completion.create(\n",
    "  model=\"text-davinci-003\",\n",
    "  prompt=\"\"\"Summarize the text in maximum three sentences:\n",
    "    General Business Description U.S. Bancorp is a financial\n",
    "    services holding company headquartered in Minneapolis,\n",
    "    Minnesota, serving millions of local, national and global customers.\n",
    "    U.S. Bancorp is registered as a bank holding company under the\n",
    "    Bank Holding Company Act of 1956 (the “BHC Act”), and has\n",
    "    elected to be treated as a financial holding company under the\n",
    "    BHC Act. The Company provides a full range of financial services,\n",
    "    including lending and depository services, cash management,\n",
    "    capital markets, and trust and investment management services. It\n",
    "    also engages in credit card services, merchant and ATM\n",
    "    processing, mortgage banking, insurance, brokerage and leasing.\n",
    "    Effective December 1, 2022, the Company acquired MUB’s core\n",
    "    regional banking franchise, consisting primarily of retail banking\n",
    "    branches in California, Oregon and Washington.\n",
    "    U.S. Bancorp’s banking subsidiaries, USBNA and MUB, are\n",
    "    engaged in the general banking business, principally in domestic\n",
    "    markets, and hold all of the Company’s consolidated deposits of\n",
    "    $525.0 billion at December 31, 2022. USBNA and MUB provide\n",
    "    a wide range of products and services to individuals, businesses,\n",
    "    institutional organizations, governmental entities and other\n",
    "    financial institutions. Commercial and consumer lending services\n",
    "    are principally offered to customers within the Company’s\n",
    "    domestic markets, to domestic customers with foreign operations\n",
    "    and to large national customers operating in specific industries\n",
    "    targeted by the Company, such as healthcare, utilities, oil and\n",
    "    gas, and state and municipal government. Lending services\n",
    "    include traditional credit products as well as credit card services,\n",
    "    lease financing and import/export trade, asset-backed lending,\n",
    "    agricultural finance and other products. Depository services\n",
    "    include checking accounts, savings accounts and time certificate\n",
    "    contracts. Ancillary services such as capital markets, treasury\n",
    "    management and receivable lock-box collection are provided to\n",
    "    corporate and governmental entity customers. U.S. Bancorp’s\n",
    "    bank and trust subsidiaries provide a full range of asset\n",
    "    management and fiduciary services for individuals, estates,\n",
    "    foundations, business corporations and charitable organizations.\n",
    "\"\"\",\n",
    "  temperature=0,\n",
    "  max_tokens=180,\n",
    "  top_p=1.0,\n",
    "  frequency_penalty=0.0,\n",
    "  presence_penalty=0.0\n",
    ")"
   ]
  },
  {
   "cell_type": "code",
   "execution_count": 14,
   "metadata": {},
   "outputs": [
    {
     "name": "stdout",
     "output_type": "stream",
     "text": [
      "('\\n'\n",
      " 'U.S. Bancorp is a financial services holding company providing a full range '\n",
      " 'of services, including lending, depository services, cash management, '\n",
      " 'capital markets, and trust and investment management services. It acquired '\n",
      " 'MUB’s core regional banking franchise in December 2022, and its banking '\n",
      " 'subsidiaries hold consolidated deposits of $525.0 billion. It provides '\n",
      " 'commercial and consumer lending services, depository services, and asset '\n",
      " 'management and fiduciary services.')\n"
     ]
    }
   ],
   "source": [
    "pprint(response2.get(\"choices\")[0].get(\"text\"))"
   ]
  },
  {
   "cell_type": "code",
   "execution_count": null,
   "metadata": {},
   "outputs": [],
   "source": []
  }
 ],
 "metadata": {
  "kernelspec": {
   "display_name": ".venv",
   "language": "python",
   "name": "python3"
  },
  "language_info": {
   "codemirror_mode": {
    "name": "ipython",
    "version": 3
   },
   "file_extension": ".py",
   "mimetype": "text/x-python",
   "name": "python",
   "nbconvert_exporter": "python",
   "pygments_lexer": "ipython3",
   "version": "3.10.10"
  },
  "orig_nbformat": 4
 },
 "nbformat": 4,
 "nbformat_minor": 2
}
